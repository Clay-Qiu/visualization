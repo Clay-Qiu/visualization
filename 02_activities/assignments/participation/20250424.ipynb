{
 "cells": [
  {
   "cell_type": "code",
   "execution_count": null,
   "id": "2769325d",
   "metadata": {},
   "outputs": [],
   "source": []
  },
  {
   "cell_type": "markdown",
   "id": "88abf40e",
   "metadata": {},
   "source": [
    "Activity 1:\n",
    "The graph is for Consume. The graph only shows the relative comparasion without any accurate data shown. So it mainly focus on discovering the relations and presentation.\n",
    "Q2: Search for Browse, since we can only have a general idea that which month has more or less.\n",
    "Q3: We are doing some comparision inside it with the time and relationship.Also Summarize."
   ]
  },
  {
   "cell_type": "markdown",
   "id": "2ce08684",
   "metadata": {},
   "source": [
    "Activity 2: Based on bar, 2 times, for the circle, it's hard to say but seems double the size."
   ]
  },
  {
   "cell_type": "markdown",
   "id": "66a871c5",
   "metadata": {},
   "source": [
    "Activity 3: \n",
    "V1: it used the emotion to emphasize the loss with color change. Not neutral.\n",
    "V2: More neutral without emphaszie and emotional present."
   ]
  }
 ],
 "metadata": {
  "kernelspec": {
   "display_name": "Python 3",
   "language": "python",
   "name": "python3"
  },
  "language_info": {
   "name": "python",
   "version": "3.13.0"
  }
 },
 "nbformat": 4,
 "nbformat_minor": 5
}
